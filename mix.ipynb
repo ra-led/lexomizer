{
 "cells": [
  {
   "cell_type": "code",
   "execution_count": 1,
   "metadata": {},
   "outputs": [
    {
     "name": "stderr",
     "output_type": "stream",
     "text": [
      "2020-11-29 04:34:23 INFO: Loading these models for language: ru (Russian):\n",
      "=========================\n",
      "| Processor | Package   |\n",
      "-------------------------\n",
      "| tokenize  | syntagrus |\n",
      "| pos       | syntagrus |\n",
      "| lemma     | syntagrus |\n",
      "| depparse  | syntagrus |\n",
      "| ner       | wikiner   |\n",
      "=========================\n",
      "\n",
      "2020-11-29 04:34:23 INFO: Use device: cpu\n",
      "2020-11-29 04:34:23 INFO: Loading: tokenize\n",
      "2020-11-29 04:34:23 INFO: Loading: pos\n",
      "2020-11-29 04:34:24 INFO: Loading: lemma\n",
      "2020-11-29 04:34:24 INFO: Loading: depparse\n",
      "2020-11-29 04:34:26 INFO: Loading: ner\n",
      "2020-11-29 04:34:27 INFO: Done loading processors!\n"
     ]
    }
   ],
   "source": [
    "import numpy as np\n",
    "import stanza\n",
    "\n",
    "snlp = stanza.Pipeline(\n",
    "    lang='ru',\n",
    "    #processors='tokenize,pos,depparse',\n",
    "    dir='stanza_models',\n",
    "    #tokenize_no_ssplit=True,\n",
    "    use_gpu=False\n",
    ")\n"
   ]
  },
  {
   "cell_type": "code",
   "execution_count": 2,
   "metadata": {},
   "outputs": [
    {
     "name": "stderr",
     "output_type": "stream",
     "text": [
      "100%|██████████| 189193/189193 [00:30<00:00, 6204.93it/s]\n"
     ]
    }
   ],
   "source": [
    "from tqdm import tqdm\n",
    "# http://vectors.nlpl.eu/repository/\n",
    "vecs = {}\n",
    "with open('vecs/model.txt') as f:\n",
    "    for row in tqdm(f.read().split('\\n')[1:-1]):\n",
    "        cols = row.split()\n",
    "        vecs[cols[0].split('_')[0]] = np.array(cols[1:]).astype(float)\n",
    "        "
   ]
  },
  {
   "cell_type": "code",
   "execution_count": 3,
   "metadata": {},
   "outputs": [
    {
     "data": {
      "text/plain": [
       "(154616, 300)"
      ]
     },
     "execution_count": 3,
     "metadata": {},
     "output_type": "execute_result"
    }
   ],
   "source": [
    "np.array(list(vecs.values())).shape"
   ]
  },
  {
   "cell_type": "markdown",
   "metadata": {},
   "source": [
    "## Исходные тексты"
   ]
  },
  {
   "cell_type": "code",
   "execution_count": 4,
   "metadata": {},
   "outputs": [],
   "source": [
    "per1 = '''Кроме того, 19.05.2015 года в период времени с 17 часов 00 минут местного времени до 17\n",
    "часов 32 минут местного времени, более точное время предварительным следствием не установлено, находясь в нерабочем тамбуре плацкартного вагона No 14 пассажирского поезде No 98 сообщением «Кисловодск-Тында», в пути следования по маршруту от ст. Исилькуль до ст. Омск-Пассажирский, Митьковский М.П. увидел находящийся на зарядке над окном мобильный телефон марки «Iphone 4s» в корпусе белого цвета и в этот момент у него вновь возник преступный умысел, направленный на тайное хищение чужого имущества, а именно мобильного телефона марки «Iphone 4s» в корпусе белого цвета, после чего с похищенным имуществом с места преступления скрыться и распорядится им по своему усмотрению, а именно продать с целью получения материальной выгоды.\n",
    "19.05.2015 года в период времени с 17 часов 00 минут местного времени до 17 часов 32 минут местного времени, более точное время предварительным следствием не установлено, Митьковский М.П., реализуя свой внезапно возникший преступный умысел, направленный на тайное хищение мобильного телефона марки «Iphone 4s» в корпусе белого цвета, находясь в нерабочем тамбуре плацкартного вагона No 14 пассажирского поезде No 98 сообщением «Кисловодск-Тында», в пути следования по маршруту от ст. Исилькуль до ст. Омск- Пассажирский, тайно, действуя умышленно, из корыстных побуждений, осознавая общественную опасность своих действий, предвидя наступление общественно опасных последствий, и желая их наступления, убедившись, что за его действиями никто не наблюдает, тайно похитил, сняв с зарядного устройства, мобильный телефон марки «Iphone 4s» - IMEI 013532009242428 в корпусе белого цвета стоимостью 13 500 рублей, сим-карту сотового оператора «МТС» с абонентским номером +7-983-528-85-72 и чехол, материальной ценности не представляющие, и принадлежащие несовершеннолетней Совуновой Анастасии Вадимовне, 23.03.1999 года рождения, следовавшей в том же вагоне, того же поезда, после чего с похищенным имуществом Митьковский М.П. с места преступления скрылся, причинив своими действиями Совуновой А.В. значительный материальный ущерб на общую сумму 13 500 рублей.\n",
    "'''.replace('\\n', ' ')\n",
    "per2 = '''11.05.2015 года она с напарником по цирковой студии Галич Денисом Юрьевичем поехали в г. Челябинск на выступление в ледовой арене «Трактор». 19.05.2015 года она с Галич Д.Ю. возвращались обратно в г. Омск, для чего на станции Челябинск они осуществили посадку в пассажирский поезд No 098 сообщением «Кисловодск-Тында» в вагон No 14 на места No 22, 24, 26. На одном месте находился реквизит. Осуществив посадку и заняв свои места они легли спать, телефон был все время при ней, однако перед тем как лечь спать он выключился, т.к. сел заряд аккумулятора. Проснувшись утром по станции Петропавловск они находились на своих местах, так как в вагоне работали пограничники, проводили проверку пассажиров. В вагоне было много пассажиров, некоторые из них в пути следования распивали спиртные напитки. В том числе в вагоне из числа пассажиров были военнослужащие, других отличительных признаков она не запомнила. После того как проводник прошел по вагону и предупредил, что до станции Омск оставалось около 15 минут, она решила пойти поставить свой мобильный телефон на зарядку для того, чтобы позвонить маме и сказать о прибытии поезда. Так, она прошла в нерабочий тамбур, где напротив туалета над окном поставила свой мобильный телефон заряжаться, положив его на верхний уступ окна. В момент, когда она ставила телефон на зарядку, в тамбуре напротив туалета стоял проводник вагона, он видел все еѐ действия. Проводник дожидался пассажира, который находился в туалете, для того чтобы закрыть туалет перед прибытием на станцию Омск. Поставив телефон на зарядку она решила вернуться на свое место, через минуту за ней вышел из тамбура проводник и прошел к себе. Она находилась на своем месте около 7-10 минут, после чего решила проверить свой мобильный телефон. Также у неѐ вызвала подозрение женщина, на вид цыганка, которая прошла в сторону туалета. Так, подойдя к нерабочему тамбуру, она увидела, что в розетке осталось только зарядное устройство от еѐ мобильного телефона, самого телефона не было. Она сразу поняла, что его похитили и пошла к проводнику, сообщила о случившемся, на что проводник ответил что по станции Омск вызовет сотрудников полиции для разбирательств.\n",
    "По прибытию на станцию Омск в вагон зашли сотрудники полиции, которым она указала на место где стоял телефон на зарядке и устно объяснила, что случилось. После этого она сошла по станции Омск вместе с одним из сотрудников полиции и проследовали в дежурную часть Омского ЛУ МВД России, где в присутствии мамы – Совуновой Аллы Николаевны она написала заявление и еѐ опросили сотрудники полиции по факту случившегося.\n",
    "Мобильный телефон у неѐ был марки «Iphone» модель «4s», IMEI 013532009242428 в корпусе белого цвета. На момент хищения мобильный телефон находился в чехле черного цвета, на задней стенке чехла изображена девушка с фотоаппаратом. Телефон не имел трещин, сколов иных механических повреждений. Мобильный телефон приобретался за 18 000 рублей примерно в сентябре 2014 года, при этом в данную сумму входила его настройка. В настоящее время с учетом износа, она оценивает мобильный телефон в 13 500 рублей 00 копеек Чехол для неѐ материальной ценности не представляет. На момент хищения в мобильном телефоне находилась сим-карта оператора ОАО «МТС» с абонентским номером +79835288572. Сим-карта материальной ценности сим-карта для неѐ не представляет, денежных средств на момент хищения на сим-карте не было. Данный абонентский номер оформлен на еѐ отца – Совунова Вадима Евгеньевича.\n",
    "За выступления в цирковой группе она получает денежные средства. Оплата за их выступления сдельная, выступают на бездоговорной основе. В среднем один час выступления стоит от 1 500 рублей, в зависимости от сложности номера. В месяц примерно она зарабатывает от 8 000 до 10 000 рублей. Именно с данных денежных средств был куплен похищенный у неѐ мобильный телефон, кроме того, из заработанных денег - часть заработка идет на оплату поездок, покупку билетов на транспорт, поэтому, в силу того, что она еще обучается в школе, постоянного заработка не имеет, и находится на иждивении у родителей в связи с чем, ущерб на сумму 13 500\n",
    "4\n",
    "рублей 00 копеек причиненный ей, является для неѐ значительным. Мобильный телефон покупался в рассрочку, которая была оформлена на еѐ маму – Совунову А.Н., однако денежные средства вносила она, по мере их получения за выступления.\n",
    "'''.replace('\\n', ' ')"
   ]
  },
  {
   "cell_type": "code",
   "execution_count": 5,
   "metadata": {},
   "outputs": [],
   "source": [
    "doc1 = snlp(per1)\n",
    "doc2 = snlp(per2)"
   ]
  },
  {
   "cell_type": "code",
   "execution_count": 6,
   "metadata": {},
   "outputs": [
    {
     "data": {
      "text/plain": [
       "(6, 300)"
      ]
     },
     "execution_count": 6,
     "metadata": {},
     "output_type": "execute_result"
    }
   ],
   "source": [
    "mean_vecs1 = []\n",
    "for s in doc1.sentences:\n",
    "    s_vecs = []\n",
    "    for w in s.words:\n",
    "        if w.upos in ('VERB', 'NOUN'):\n",
    "            try:\n",
    "                s_vecs.append(vecs[w.lemma])\n",
    "            except KeyError:\n",
    "                pass\n",
    "    if s_vecs:\n",
    "        mean_vecs1.append(np.vstack(s_vecs).sum(0))\n",
    "    else:\n",
    "        mean_vecs1.append(np.zeros((300,)))\n",
    "        \n",
    "mean_vecs1 = np.vstack(mean_vecs1)\n",
    "mean_vecs1.shape\n"
   ]
  },
  {
   "cell_type": "code",
   "execution_count": 7,
   "metadata": {},
   "outputs": [
    {
     "data": {
      "text/plain": [
       "(33, 300)"
      ]
     },
     "execution_count": 7,
     "metadata": {},
     "output_type": "execute_result"
    }
   ],
   "source": [
    "mean_vecs2 = []\n",
    "for s in doc2.sentences:\n",
    "    s_vecs = []\n",
    "    for w in s.words:\n",
    "        if w.upos in ('VERB', 'NOUN'):\n",
    "            try:\n",
    "                s_vecs.append(vecs[w.lemma])\n",
    "            except KeyError:\n",
    "                pass\n",
    "    if s_vecs:\n",
    "        mean_vecs2.append(np.vstack(s_vecs).sum(0))\n",
    "    else:\n",
    "        mean_vecs2.append(np.zeros((300,)))\n",
    "        \n",
    "mean_vecs2 = np.vstack(mean_vecs2)\n",
    "mean_vecs2.shape\n"
   ]
  },
  {
   "cell_type": "markdown",
   "metadata": {},
   "source": [
    "## Общие точки"
   ]
  },
  {
   "cell_type": "code",
   "execution_count": 8,
   "metadata": {},
   "outputs": [],
   "source": [
    "from sklearn.metrics.pairwise import cosine_similarity\n",
    "\n",
    "sims = cosine_similarity(mean_vecs1, mean_vecs2)"
   ]
  },
  {
   "cell_type": "code",
   "execution_count": 9,
   "metadata": {},
   "outputs": [
    {
     "data": {
      "image/png": "[encoded data removed]",
      "text/plain": [
       "<Figure size 432x288 with 2 Axes>"
      ]
     },
     "metadata": {
      "needs_background": "light"
     },
     "output_type": "display_data"
    }
   ],
   "source": [
    "import matplotlib.pyplot as plt\n",
    "import seaborn as sns\n",
    "\n",
    "sns.heatmap(sims)\n",
    "plt.show()\n"
   ]
  },
  {
   "cell_type": "code",
   "execution_count": 10,
   "metadata": {},
   "outputs": [
    {
     "data": {
      "text/html": [
       "<div>\n",
       "<style scoped>\n",
       "    .dataframe tbody tr th:only-of-type {\n",
       "        vertical-align: middle;\n",
       "    }\n",
       "\n",
       "    .dataframe tbody tr th {\n",
       "        vertical-align: top;\n",
       "    }\n",
       "\n",
       "    .dataframe thead th {\n",
       "        text-align: right;\n",
       "    }\n",
       "</style>\n",
       "<table border=\"1\" class=\"dataframe\">\n",
       "  <thead>\n",
       "    <tr style=\"text-align: right;\">\n",
       "      <th></th>\n",
       "      <th>s_1_id</th>\n",
       "      <th>s_2_id</th>\n",
       "      <th>sim</th>\n",
       "    </tr>\n",
       "  </thead>\n",
       "  <tbody>\n",
       "    <tr>\n",
       "      <th>85</th>\n",
       "      <td>2</td>\n",
       "      <td>19</td>\n",
       "      <td>0.579871</td>\n",
       "    </tr>\n",
       "    <tr>\n",
       "      <th>90</th>\n",
       "      <td>2</td>\n",
       "      <td>24</td>\n",
       "      <td>0.574677</td>\n",
       "    </tr>\n",
       "    <tr>\n",
       "      <th>1</th>\n",
       "      <td>0</td>\n",
       "      <td>1</td>\n",
       "      <td>0.559564</td>\n",
       "    </tr>\n",
       "    <tr>\n",
       "      <th>2</th>\n",
       "      <td>0</td>\n",
       "      <td>2</td>\n",
       "      <td>0.540910</td>\n",
       "    </tr>\n",
       "    <tr>\n",
       "      <th>123</th>\n",
       "      <td>3</td>\n",
       "      <td>24</td>\n",
       "      <td>0.537742</td>\n",
       "    </tr>\n",
       "  </tbody>\n",
       "</table>\n",
       "</div>"
      ],
      "text/plain": [
       "     s_1_id  s_2_id       sim\n",
       "85        2      19  0.579871\n",
       "90        2      24  0.574677\n",
       "1         0       1  0.559564\n",
       "2         0       2  0.540910\n",
       "123       3      24  0.537742"
      ]
     },
     "execution_count": 10,
     "metadata": {},
     "output_type": "execute_result"
    }
   ],
   "source": [
    "from itertools import product\n",
    "\n",
    "sims_rate = []\n",
    "for i1, i2 in product(range(sims.shape[0]), range(sims.shape[1])):\n",
    "    sims_rate.append({'s_1_id': i1, 's_2_id': i2,'sim': sims[i1, i2] })\n",
    "    \n",
    "import pandas as pd\n",
    "\n",
    "df = pd.DataFrame(sims_rate)\n",
    "df = df.sort_values(by='sim', ascending=False)\n",
    "df.head()"
   ]
  },
  {
   "cell_type": "code",
   "execution_count": 11,
   "metadata": {},
   "outputs": [
    {
     "data": {
      "text/plain": [
       "[<matplotlib.lines.Line2D at 0x7fc5ab48d710>]"
      ]
     },
     "execution_count": 11,
     "metadata": {},
     "output_type": "execute_result"
    },
    {
     "data": {
      "image/png": "[encoded data removed]",
      "text/plain": [
       "<Figure size 432x288 with 1 Axes>"
      ]
     },
     "metadata": {
      "needs_background": "light"
     },
     "output_type": "display_data"
    }
   ],
   "source": [
    "plt.plot(df.sim.values)"
   ]
  },
  {
   "cell_type": "code",
   "execution_count": 12,
   "metadata": {},
   "outputs": [
    {
     "data": {
      "text/plain": [
       "[{'s_1_id': 2.0, 's_2_id': 19.0, 'sim': 0.5798707308135782},\n",
       " {'s_1_id': 3.0, 's_2_id': 24.0, 'sim': 0.5377417980369308},\n",
       " {'s_1_id': 5.0, 's_2_id': 31.0, 'sim': 0.4785025078121541}]"
      ]
     },
     "execution_count": 12,
     "metadata": {},
     "output_type": "execute_result"
    }
   ],
   "source": [
    "x = []\n",
    "while not df.empty:\n",
    "    top = df.iloc[0].to_dict()\n",
    "    if top['sim'] <=0:\n",
    "        break\n",
    "    x.append(top)\n",
    "    df = df.query(f's_1_id > {top[\"s_1_id\"]} & s_2_id > {top[\"s_2_id\"]}')\n",
    "\n",
    "x\n"
   ]
  },
  {
   "cell_type": "markdown",
   "metadata": {},
   "source": [
    "## Суммаризация"
   ]
  },
  {
   "cell_type": "code",
   "execution_count": 13,
   "metadata": {},
   "outputs": [
    {
     "name": "stdout",
     "output_type": "stream",
     "text": [
      "\n",
      "====================  Митьковский\n",
      "Кроме того, 19.05.2015 года в период времени с 17 часов 00 минут местного времени до 17 часов 32 минут местного времени, более точное время предварительным следствием не установлено, находясь в нерабочем тамбуре плацкартного вагона No 14 пассажирского поезде No 98 сообщением «Кисловодск-Тында», в пути следования по маршруту от ст. Исилькуль до ст.\n",
      "\n",
      "==================== Совунова\n",
      "11.05.2015 года она с напарником по цирковой студии Галич Денисом Юрьевичем поехали в г. Челябинск на выступление в ледовой арене «Трактор». 19.05.2015 года она с Галич Д.Ю. возвращались обратно в г. Омск, для чего на станции Челябинск они осуществили посадку в пассажирский поезд No 098 сообщением «Кисловодск-Тында» в вагон No 14 на места No 22, 24, 26. На одном месте находился реквизит. Осуществив посадку и заняв свои места они легли спать, телефон был все время при ней, однако перед тем как лечь спать он выключился, т.к. сел заряд аккумулятора. Проснувшись утром по станции Петропавловск они находились на своих местах, так как в вагоне работали пограничники, проводили проверку пассажиров. В вагоне было много пассажиров, некоторые из них в пути следования распивали спиртные напитки. В том числе в вагоне из числа пассажиров были военнослужащие, других отличительных признаков она не запомнила. После того как проводник прошел по вагону и предупредил, что до станции Омск оставалось около 15 минут, она решила пойти поставить свой мобильный телефон на зарядку для того, чтобы позвонить маме и сказать о прибытии поезда. Так, она прошла в нерабочий тамбур, где напротив туалета над окном поставила свой мобильный телефон заряжаться, положив его на верхний уступ окна. В момент, когда она ставила телефон на зарядку, в тамбуре напротив туалета стоял проводник вагона, он видел все еѐ действия. Проводник дожидался пассажира, который находился в туалете, для того чтобы закрыть туалет перед прибытием на станцию Омск. Поставив телефон на зарядку она решила вернуться на свое место, через минуту за ней вышел из тамбура проводник и прошел к себе. Она находилась на своем месте около 7-10 минут, после чего решила проверить свой мобильный телефон. Также у неѐ вызвала подозрение женщина, на вид цыганка, которая прошла в сторону туалета. Так, подойдя к нерабочему тамбуру, она увидела, что в розетке осталось только зарядное устройство от еѐ мобильного телефона, самого телефона не было. Она сразу поняла, что его похитили и пошла к проводнику, сообщила о случившемся, на что проводник ответил что по станции Омск вызовет сотрудников полиции для разбирательств. По прибытию на станцию Омск в вагон зашли сотрудники полиции, которым она указала на место где стоял телефон на зарядке и устно объяснила, что случилось. После этого она сошла по станции Омск вместе с одним из сотрудников полиции и проследовали в дежурную часть Омского ЛУ МВД России, где в присутствии мамы – Совуновой Аллы Николаевны она написала заявление и еѐ опросили сотрудники полиции по факту случившегося.\n",
      "\n",
      "====================  Митьковский\n",
      "Омск-Пассажирский, Митьковский М.П. увидел находящийся на зарядке над окном мобильный телефон марки «Iphone 4s» в корпусе белого цвета и в этот момент у него вновь возник преступный умысел, направленный на тайное хищение чужого имущества, а именно мобильного телефона марки «Iphone 4s» в корпусе белого цвета, после чего с похищенным имуществом с места преступления скрыться и распорядится им по своему усмотрению, а именно продать с целью получения материальной выгоды.\n",
      "\n",
      "==================== Совунова\n",
      "Мобильный телефон у неѐ был марки «Iphone» модель «4s», IMEI 013532009242428 в корпусе белого цвета. На момент хищения мобильный телефон находился в чехле черного цвета, на задней стенке чехла изображена девушка с фотоаппаратом. Телефон не имел трещин, сколов иных механических повреждений. Мобильный телефон приобретался за 18 000 рублей примерно в сентябре 2014 года, при этом в данную сумму входила его настройка. В настоящее время с учетом износа, она оценивает мобильный телефон в 13 500 рублей 00 копеек Чехол для неѐ материальной ценности не представляет.\n",
      "\n",
      "====================  Митьковский\n",
      "19.05.2015 года в период времени с 17 часов 00 минут местного времени до 17 часов 32 минут местного времени, более точное время предварительным следствием не установлено, Митьковский М.П., реализуя свой внезапно возникший преступный умысел, направленный на тайное хищение мобильного телефона марки «Iphone 4s» в корпусе белого цвета, находясь в нерабочем тамбуре плацкартного вагона No 14 пассажирского поезде No 98 сообщением «Кисловодск-Тында», в пути следования по маршруту от ст. Исилькуль до ст.\n",
      "\n",
      "==================== Совунова\n",
      "На момент хищения в мобильном телефоне находилась сим-карта оператора ОАО «МТС» с абонентским номером +79835288572. Сим-карта материальной ценности сим-карта для неѐ не представляет, денежных средств на момент хищения на сим-карте не было. Данный абонентский номер оформлен на еѐ отца – Совунова Вадима Евгеньевича. За выступления в цирковой группе она получает денежные средства. Оплата за их выступления сдельная, выступают на бездоговорной основе. В среднем один час выступления стоит от 1 500 рублей, в зависимости от сложности номера. В месяц примерно она зарабатывает от 8 000 до 10 000 рублей.\n",
      "\n",
      "==================== Митьковский\n",
      "Омск- Пассажирский, тайно, действуя умышленно, из корыстных побуждений, осознавая общественную опасность своих действий, предвидя наступление общественно опасных последствий, и желая их наступления, убедившись, что за его действиями никто не наблюдает, тайно похитил, сняв с зарядного устройства, мобильный телефон марки «Iphone 4s» - IMEI 013532009242428 в корпусе белого цвета стоимостью 13 500 рублей, сим-карту сотового оператора «МТС» с абонентским номером +7-983-528-85-72 и чехол, материальной ценности не представляющие, и принадлежащие несовершеннолетней Совуновой Анастасии Вадимовне, 23.03.1999 года рождения, следовавшей в том же вагоне, того же поезда, после чего с похищенным имуществом Митьковский М.П. с места преступления скрылся, причинив своими действиями Совуновой А.В. значительный материальный ущерб на общую сумму 13 500 рублей.\n",
      "\n",
      "==================== Совунова\n",
      "Именно с данных денежных средств был куплен похищенный у неѐ мобильный телефон, кроме того, из заработанных денег - часть заработка идет на оплату поездок, покупку билетов на транспорт, поэтому, в силу того, что она еще обучается в школе, постоянного заработка не имеет, и находится на иждивении у родителей в связи с чем, ущерб на сумму 13 500 4 рублей 00 копеек причиненный ей, является для неѐ значительным. Мобильный телефон покупался в рассрочку, которая была оформлена на еѐ маму – Совунову А.Н., однако денежные средства вносила она, по мере их получения за выступления.\n"
     ]
    }
   ],
   "source": [
    "i1, i2 = 0, 0\n",
    "for time in x:\n",
    "    print('\\n'  + '=' * 20, ' Митьковский')\n",
    "    print(' '.join([s.text for s in doc1.sentences[i1:int(time[\"s_1_id\"])]]))\n",
    "    print('\\n'  + '=' * 20, 'Совунова')\n",
    "    print(' '.join([s.text for s in doc2.sentences[i2:int(time[\"s_2_id\"])]]))\n",
    "    i1, i2 = int(time[\"s_1_id\"]), int(time[\"s_2_id\"])\n",
    "    \n",
    "print('\\n'  + '=' * 20, 'Митьковский')\n",
    "print(' '.join([s.text for s in doc1.sentences[int(time[\"s_1_id\"]):]]))\n",
    "print('\\n'  + '=' * 20, 'Совунова')\n",
    "print(' '.join([s.text for s in doc2.sentences[int(time[\"s_2_id\"]):]]))\n"
   ]
  },
  {
   "cell_type": "code",
   "execution_count": null,
   "metadata": {},
   "outputs": [],
   "source": []
  }
 ],
 "metadata": {
  "kernelspec": {
   "display_name": "Python 3",
   "language": "python",
   "name": "python3"
  },
  "language_info": {
   "codemirror_mode": {
    "name": "ipython",
    "version": 3
   },
   "file_extension": ".py",
   "mimetype": "text/x-python",
   "name": "python",
   "nbconvert_exporter": "python",
   "pygments_lexer": "ipython3",
   "version": "3.7.6"
  }
 },
 "nbformat": 4,
 "nbformat_minor": 2
}
